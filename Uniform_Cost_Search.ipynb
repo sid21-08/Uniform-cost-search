{
  "nbformat": 4,
  "nbformat_minor": 0,
  "metadata": {
    "colab": {
      "name": "Uniform Cost Search.ipynb",
      "provenance": []
    },
    "kernelspec": {
      "name": "python3",
      "display_name": "Python 3"
    },
    "language_info": {
      "name": "python"
    }
  },
  "cells": [
    {
      "cell_type": "code",
      "execution_count": 1,
      "metadata": {
        "id": "Ld-925JplqSM"
      },
      "outputs": [],
      "source": [
        "class Node(object):\n",
        "    \"\"\"This class represents a node in a graph.\"\"\"\n",
        "    \n",
        "    def __init__(self, label: str=None):\n",
        "        \"\"\"\n",
        "        Initialize a new node.\n",
        "        \n",
        "        Args:\n",
        "            label: the string identifier for the node\n",
        "        \"\"\"\n",
        "        self.label = label\n",
        "        self.children = []\n",
        "        \n",
        "    def __lt__(self,other):\n",
        "        \"\"\"\n",
        "        Perform the less than operation (self < other).\n",
        "        \n",
        "        Args:\n",
        "            other: the other Node to compare to\n",
        "        \"\"\"\n",
        "        return (self.label < other.label)\n",
        "    \n",
        "    def __gt__(self,other):\n",
        "        \"\"\"\n",
        "        Perform the greater than operation (self > other).\n",
        "        \n",
        "        Args:\n",
        "            other: the other Node to compare to\n",
        "        \"\"\"\n",
        "        return (self.label > other.label)\n",
        "    \n",
        "    def __repr__(self):\n",
        "        \"\"\"Return a string form of this node.\"\"\"\n",
        "        return '{} -> {}'.format(self.label, self.children)\n",
        "    \n",
        "    def add_child(self, node, cost=1):\n",
        "        \"\"\"\n",
        "        Add a child node to this node.\n",
        "        \n",
        "        Args:\n",
        "            node: the node to add to the children\n",
        "            cost: the cost of the edge (default 1)\n",
        "        \"\"\"\n",
        "        edge = Edge(self, node, cost)\n",
        "        self.children.append(edge)\n",
        "    \n",
        "    \n",
        "class Edge(object):\n",
        "    \"\"\"This class represents an edge in a graph.\"\"\"\n",
        "    \n",
        "    def __init__(self, source: Node, destination: Node, cost: int=1):\n",
        "        \"\"\"\n",
        "        Initialize a new edge.\n",
        "        \n",
        "        Args:\n",
        "            source: the source of the edge\n",
        "            destination: the destination of the edge\n",
        "            cost: the cost of the edge (default 1)\n",
        "        \"\"\"\n",
        "        self.source = source\n",
        "        self.destination = destination\n",
        "        self.cost = cost\n",
        "    \n",
        "    def __repr__(self):\n",
        "        \"\"\"Return a string form of this edge.\"\"\"\n",
        "        return '{}: {}'.format(self.cost, self.destination.label)"
      ]
    },
    {
      "cell_type": "code",
      "source": [
        "S = Node('S')\n",
        "A = Node('A')\n",
        "B = Node('B')\n",
        "C = Node('C')\n",
        "D = Node('D')\n",
        "G = Node('G')"
      ],
      "metadata": {
        "id": "0sNIR66OvIjD"
      },
      "execution_count": 2,
      "outputs": []
    },
    {
      "cell_type": "code",
      "source": [
        "S.add_child(A, 1)\n",
        "S.add_child(G, 12)\n",
        "\n",
        "A.add_child(B, 3)\n",
        "A.add_child(C, 1)\n",
        "\n",
        "B.add_child(D, 3)\n",
        "\n",
        "C.add_child(D, 1)\n",
        "C.add_child(G, 2)\n",
        "\n",
        "D.add_child(G, 3)"
      ],
      "metadata": {
        "id": "EpwJ70kdvRd9"
      },
      "execution_count": 3,
      "outputs": []
    },
    {
      "cell_type": "code",
      "source": [
        "_ = [print(node) for node in [S, A, B, C, D, G]]"
      ],
      "metadata": {
        "colab": {
          "base_uri": "https://localhost:8080/"
        },
        "id": "v79O9C1AvUu5",
        "outputId": "7f400ee9-5588-4383-ce56-599429b6ec69"
      },
      "execution_count": 4,
      "outputs": [
        {
          "output_type": "stream",
          "name": "stdout",
          "text": [
            "S -> [1: A, 12: G]\n",
            "A -> [3: B, 1: C]\n",
            "B -> [3: D]\n",
            "C -> [1: D, 2: G]\n",
            "D -> [3: G]\n",
            "G -> []\n"
          ]
        }
      ]
    },
    {
      "cell_type": "code",
      "source": [
        "from queue import PriorityQueue\n",
        "\n",
        "\n",
        "def ucs(root, goal):\n",
        "    \"\"\"\n",
        "    Return the uniform cost search path from root to gaol.\n",
        "    \n",
        "    Args:\n",
        "        root: the starting node for the search\n",
        "        goal: the goal node for the search\n",
        "        \n",
        "    Returns: a list with the path from root to goal\n",
        "    \n",
        "    Raises: ValueError if goal isn't in the graph\n",
        "    \"\"\"\n",
        "    # create a priority queue of paths\n",
        "    queue = PriorityQueue()\n",
        "    queue.put((0, [root]))\n",
        "    # iterate over the items in the queue\n",
        "    while not queue.empty():\n",
        "        # get the highest priority item\n",
        "        pair = queue.get()\n",
        "        current = pair[1][-1]\n",
        "        # if it's the goal, return\n",
        "        if current.label == goal:\n",
        "            return pair[1]\n",
        "        # add all the edges to the priority queue\n",
        "        for edge in current.children:\n",
        "            # create a new path with the node from the edge\n",
        "            new_path = list(pair[1])\n",
        "            new_path.append(edge.destination)\n",
        "            # append the new path to the queue with the edges priority\n",
        "            queue.put((pair[0] + edge.cost, new_path))"
      ],
      "metadata": {
        "id": "mlMhgO0pvdYz"
      },
      "execution_count": 5,
      "outputs": []
    },
    {
      "cell_type": "code",
      "source": [
        "ucs(S, 'G')"
      ],
      "metadata": {
        "colab": {
          "base_uri": "https://localhost:8080/"
        },
        "id": "3S7hg2xAvm7n",
        "outputId": "30a40f8f-d4b3-4fdf-ea58-96143fc3a920"
      },
      "execution_count": 6,
      "outputs": [
        {
          "output_type": "execute_result",
          "data": {
            "text/plain": [
              "[S -> [1: A, 12: G], A -> [3: B, 1: C], C -> [1: D, 2: G], G -> []]"
            ]
          },
          "metadata": {},
          "execution_count": 6
        }
      ]
    },
    {
      "cell_type": "code",
      "source": [
        ""
      ],
      "metadata": {
        "id": "lee0n5IywFW_"
      },
      "execution_count": null,
      "outputs": []
    }
  ]
}